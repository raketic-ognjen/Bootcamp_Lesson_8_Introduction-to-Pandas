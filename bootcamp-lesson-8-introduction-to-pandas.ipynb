{
  "cells": [
    {
      "cell_type": "markdown",
      "source": [
        "# <font color='tomato' style=\"font-size:40px\"><center><b>Introduction to Pandas</b></center></font>\n"
      ],
      "metadata": {
        "id": "zjT5laQ3YgCn"
      },
      "id": "zjT5laQ3YgCn"
    },
    {
      "cell_type": "markdown",
      "source": [
        "* We have seen before several ways to structure data in Python. First we dealt with lists. Then, we talked about NumPy arrays. Now we discuss **Pandas**. If you recall, NumPy arrays all need to contain data of the same type (and if they originally do not, they get transformed to be all of the same type)."
      ],
      "metadata": {
        "id": "xaluwgSxYpJg"
      },
      "id": "xaluwgSxYpJg"
    },
    {
      "cell_type": "markdown",
      "source": [
        "* On the other hand, in data bases and spreadsheets data can be usually of different types (strings, floats, etc). Pandas provide us with similar functionalities as NumPy but with this additional flexibility. They are very similar in concept to DataFrame objects in R which you are just learning about and are essentially like **Excel on steroids**."
      ],
      "metadata": {
        "id": "FG9rzgsrYsj3"
      },
      "id": "FG9rzgsrYsj3"
    },
    {
      "cell_type": "markdown",
      "source": [
        "* Another cool thing is that both export and import of data using Pandas is much simpler than using just regular Python. In this way, with Pandas we are getting tools that we most commonly use when we work in Python in real life situations."
      ],
      "metadata": {
        "id": "bRT18Z3NYx2V"
      },
      "id": "bRT18Z3NYx2V"
    },
    {
      "cell_type": "markdown",
      "source": [
        "## <font color='orange' style=\"font-size:25px\"><b>Installing packages</b></font>"
      ],
      "metadata": {
        "id": "JasEL_YcY3Ua"
      },
      "id": "JasEL_YcY3Ua"
    },
    {
      "cell_type": "markdown",
      "source": [
        "We are going to use two packages:\n",
        "* <font color='mediumseagreen'><b>Pandas</b></font>\n",
        "* <font color='mediumseagreen'><b>Pandas-DataReader</b></font>"
      ],
      "metadata": {
        "id": "XwRYviIyY5Ra"
      },
      "id": "XwRYviIyY5Ra"
    },
    {
      "cell_type": "markdown",
      "source": [
        "Google Colab users already have them installed! However, if you use any other platform you need to install it first. To install them into your desktop Jupyter notebook, you just need to type the following commands in the command prompt:\n",
        "<br><br>\n",
        "<b>`pip install pandas-datareader`</b> and\n",
        "\n",
        " <b>`pip install pandas`</b>"
      ],
      "metadata": {
        "id": "NSZQ_Y84Y7LP"
      },
      "id": "NSZQ_Y84Y7LP"
    },
    {
      "cell_type": "code",
      "source": [
        "%pip install pandas-datareader"
      ],
      "metadata": {
        "id": "0wlrvo0IZHHY",
        "outputId": "6ecbe449-4000-4932-ec8c-3c78ee9a7f88",
        "colab": {
          "base_uri": "https://localhost:8080/"
        }
      },
      "id": "0wlrvo0IZHHY",
      "execution_count": 1,
      "outputs": [
        {
          "output_type": "stream",
          "name": "stdout",
          "text": [
            "Requirement already satisfied: pandas-datareader in /usr/local/lib/python3.10/dist-packages (0.10.0)\n",
            "Requirement already satisfied: lxml in /usr/local/lib/python3.10/dist-packages (from pandas-datareader) (4.9.3)\n",
            "Requirement already satisfied: pandas>=0.23 in /usr/local/lib/python3.10/dist-packages (from pandas-datareader) (1.5.3)\n",
            "Requirement already satisfied: requests>=2.19.0 in /usr/local/lib/python3.10/dist-packages (from pandas-datareader) (2.27.1)\n",
            "Requirement already satisfied: python-dateutil>=2.8.1 in /usr/local/lib/python3.10/dist-packages (from pandas>=0.23->pandas-datareader) (2.8.2)\n",
            "Requirement already satisfied: pytz>=2020.1 in /usr/local/lib/python3.10/dist-packages (from pandas>=0.23->pandas-datareader) (2022.7.1)\n",
            "Requirement already satisfied: numpy>=1.21.0 in /usr/local/lib/python3.10/dist-packages (from pandas>=0.23->pandas-datareader) (1.22.4)\n",
            "Requirement already satisfied: urllib3<1.27,>=1.21.1 in /usr/local/lib/python3.10/dist-packages (from requests>=2.19.0->pandas-datareader) (1.26.16)\n",
            "Requirement already satisfied: certifi>=2017.4.17 in /usr/local/lib/python3.10/dist-packages (from requests>=2.19.0->pandas-datareader) (2023.7.22)\n",
            "Requirement already satisfied: charset-normalizer~=2.0.0 in /usr/local/lib/python3.10/dist-packages (from requests>=2.19.0->pandas-datareader) (2.0.12)\n",
            "Requirement already satisfied: idna<4,>=2.5 in /usr/local/lib/python3.10/dist-packages (from requests>=2.19.0->pandas-datareader) (3.4)\n",
            "Requirement already satisfied: six>=1.5 in /usr/local/lib/python3.10/dist-packages (from python-dateutil>=2.8.1->pandas>=0.23->pandas-datareader) (1.16.0)\n"
          ]
        }
      ]
    },
    {
      "cell_type": "code",
      "source": [
        "%pip install Pandas"
      ],
      "metadata": {
        "id": "UWbddhh6ZNEA",
        "outputId": "7412f0f3-ea1b-4694-dc15-129b864f1349",
        "colab": {
          "base_uri": "https://localhost:8080/"
        }
      },
      "id": "UWbddhh6ZNEA",
      "execution_count": 2,
      "outputs": [
        {
          "output_type": "stream",
          "name": "stdout",
          "text": [
            "Requirement already satisfied: Pandas in /usr/local/lib/python3.10/dist-packages (1.5.3)\n",
            "Requirement already satisfied: python-dateutil>=2.8.1 in /usr/local/lib/python3.10/dist-packages (from Pandas) (2.8.2)\n",
            "Requirement already satisfied: pytz>=2020.1 in /usr/local/lib/python3.10/dist-packages (from Pandas) (2022.7.1)\n",
            "Requirement already satisfied: numpy>=1.21.0 in /usr/local/lib/python3.10/dist-packages (from Pandas) (1.22.4)\n",
            "Requirement already satisfied: six>=1.5 in /usr/local/lib/python3.10/dist-packages (from python-dateutil>=2.8.1->Pandas) (1.16.0)\n"
          ]
        }
      ]
    },
    {
      "cell_type": "markdown",
      "source": [
        "<font color='crimson'>\n",
        "    Since Yahoo!Finance has changed its website recently, current version of <font color='mediumseagreen'><b>Pandas-DataReader</b></font> is unable to download data from it. However, until new update for this package come, we can use highly specialized package <font color='mediumseagreen'><b>YFinance</b></font> (short form Yahoo!Finance) to download data from this website. We discuss this package in more detail in next semester, here we only use it to make patch for <font color='mediumseagreen'><b>Pandas-DataReader</b></font> so that it can download data from Yahoo!Finance.\n",
        "</font>"
      ],
      "metadata": {
        "id": "2OsGeWDLY_G7"
      },
      "id": "2OsGeWDLY_G7"
    },
    {
      "cell_type": "markdown",
      "source": [
        "\n",
        "Since <font color='mediumseagreen'><b>YFinance</b></font> doesn't come by default with Colab, you have to install it. For that we use magic command:\n",
        "<br> <font color='Plum'><b>%</b></font>`pip install`\n",
        "    </font>"
      ],
      "metadata": {
        "id": "iWdt1aayZEh-"
      },
      "id": "iWdt1aayZEh-"
    },
    {
      "cell_type": "code",
      "source": [
        "%pip install yfinance"
      ],
      "metadata": {
        "id": "MeNPPOL9ZGgz",
        "outputId": "1796b9bb-bfc2-4e87-f1ad-d100fdbcedaf",
        "colab": {
          "base_uri": "https://localhost:8080/"
        }
      },
      "id": "MeNPPOL9ZGgz",
      "execution_count": 3,
      "outputs": [
        {
          "output_type": "stream",
          "name": "stdout",
          "text": [
            "Requirement already satisfied: yfinance in /usr/local/lib/python3.10/dist-packages (0.2.25)\n",
            "Requirement already satisfied: pandas>=1.3.0 in /usr/local/lib/python3.10/dist-packages (from yfinance) (1.5.3)\n",
            "Requirement already satisfied: numpy>=1.16.5 in /usr/local/lib/python3.10/dist-packages (from yfinance) (1.22.4)\n",
            "Requirement already satisfied: requests>=2.26 in /usr/local/lib/python3.10/dist-packages (from yfinance) (2.27.1)\n",
            "Requirement already satisfied: multitasking>=0.0.7 in /usr/local/lib/python3.10/dist-packages (from yfinance) (0.0.11)\n",
            "Requirement already satisfied: lxml>=4.9.1 in /usr/local/lib/python3.10/dist-packages (from yfinance) (4.9.3)\n",
            "Requirement already satisfied: appdirs>=1.4.4 in /usr/local/lib/python3.10/dist-packages (from yfinance) (1.4.4)\n",
            "Requirement already satisfied: pytz>=2022.5 in /usr/local/lib/python3.10/dist-packages (from yfinance) (2022.7.1)\n",
            "Requirement already satisfied: frozendict>=2.3.4 in /usr/local/lib/python3.10/dist-packages (from yfinance) (2.3.8)\n",
            "Requirement already satisfied: beautifulsoup4>=4.11.1 in /usr/local/lib/python3.10/dist-packages (from yfinance) (4.11.2)\n",
            "Requirement already satisfied: html5lib>=1.1 in /usr/local/lib/python3.10/dist-packages (from yfinance) (1.1)\n",
            "Requirement already satisfied: soupsieve>1.2 in /usr/local/lib/python3.10/dist-packages (from beautifulsoup4>=4.11.1->yfinance) (2.4.1)\n",
            "Requirement already satisfied: six>=1.9 in /usr/local/lib/python3.10/dist-packages (from html5lib>=1.1->yfinance) (1.16.0)\n",
            "Requirement already satisfied: webencodings in /usr/local/lib/python3.10/dist-packages (from html5lib>=1.1->yfinance) (0.5.1)\n",
            "Requirement already satisfied: python-dateutil>=2.8.1 in /usr/local/lib/python3.10/dist-packages (from pandas>=1.3.0->yfinance) (2.8.2)\n",
            "Requirement already satisfied: urllib3<1.27,>=1.21.1 in /usr/local/lib/python3.10/dist-packages (from requests>=2.26->yfinance) (1.26.16)\n",
            "Requirement already satisfied: certifi>=2017.4.17 in /usr/local/lib/python3.10/dist-packages (from requests>=2.26->yfinance) (2023.7.22)\n",
            "Requirement already satisfied: charset-normalizer~=2.0.0 in /usr/local/lib/python3.10/dist-packages (from requests>=2.26->yfinance) (2.0.12)\n",
            "Requirement already satisfied: idna<4,>=2.5 in /usr/local/lib/python3.10/dist-packages (from requests>=2.26->yfinance) (3.4)\n"
          ]
        }
      ]
    },
    {
      "cell_type": "markdown",
      "source": [
        "Once all packages are properly installed, you should import them into your notebook.\n",
        "* PS: note that at the end of code below we have line which uses <font color='mediumseagreen'><b>YFinance</b></font> to patch <font color='mediumseagreen'><b>Pandas - Data Reader</b></font>"
      ],
      "metadata": {
        "id": "YSyOm40YZb7t"
      },
      "id": "YSyOm40YZb7t"
    },
    {
      "cell_type": "code",
      "source": [
        "import pandas as pd\n",
        "import numpy as np\n",
        "from pandas_datareader import data as dr\n",
        "import yfinance as yfin\n",
        "yfin.pdr_override()"
      ],
      "metadata": {
        "id": "iNEGlkxGZULr"
      },
      "id": "iNEGlkxGZULr",
      "execution_count": 4,
      "outputs": []
    },
    {
      "cell_type": "markdown",
      "source": [
        "## <font color='orange' style=\"font-size:25px\"><b>Importing and display data with Pandas</b></font>"
      ],
      "metadata": {
        "id": "LU0fI7ReZzaT"
      },
      "id": "LU0fI7ReZzaT"
    },
    {
      "cell_type": "markdown",
      "source": [
        "Up to this point we have used general Python to import data, i.e. function <font color='DodgerBlue'><b>open</b></font> in combination with the string method <font color='DeepPink'><b>split</b></font> or regex to transform one large string into list of numbers with which we can operate. With <font color='mediumseagreen'><b>Pandas</b></font> data import simplifies."
      ],
      "metadata": {
        "id": "VEipc6pdZ1Jx"
      },
      "id": "VEipc6pdZ1Jx"
    },
    {
      "cell_type": "markdown",
      "source": [
        "Function <font color='DodgerBlue'><b>pd.read_csv</b></font> has only one required argument - path to the file which you want to import (a string). If data file is in the same directory as the .ipynb file into which you want import it, you have only to give file name with extension.\n",
        "\n",
        "> Import: \"fivepricesNew.csv\". Recall that these are daily prices of various stocks and SP500 index. As usual, Google Colab users have to first to upload the file:"
      ],
      "metadata": {
        "id": "PebEhWLQZ2dl"
      },
      "id": "PebEhWLQZ2dl"
    },
    {
      "cell_type": "code",
      "source": [],
      "metadata": {
        "id": "RG2HmDY3ZyR9"
      },
      "id": "RG2HmDY3ZyR9",
      "execution_count": null,
      "outputs": []
    }
  ],
  "metadata": {
    "kernelspec": {
      "display_name": "Python 3",
      "language": "python",
      "name": "python3"
    },
    "language_info": {
      "codemirror_mode": {
        "name": "ipython",
        "version": 3
      },
      "file_extension": ".py",
      "mimetype": "text/x-python",
      "name": "python",
      "nbconvert_exporter": "python",
      "pygments_lexer": "ipython3",
      "version": "3.10.12"
    },
    "papermill": {
      "default_parameters": {},
      "duration": 8.480119,
      "end_time": "2023-07-30T19:58:17.282065",
      "environment_variables": {},
      "exception": null,
      "input_path": "__notebook__.ipynb",
      "output_path": "__notebook__.ipynb",
      "parameters": {},
      "start_time": "2023-07-30T19:58:08.801946",
      "version": "2.4.0"
    },
    "colab": {
      "provenance": []
    }
  },
  "nbformat": 4,
  "nbformat_minor": 5
}